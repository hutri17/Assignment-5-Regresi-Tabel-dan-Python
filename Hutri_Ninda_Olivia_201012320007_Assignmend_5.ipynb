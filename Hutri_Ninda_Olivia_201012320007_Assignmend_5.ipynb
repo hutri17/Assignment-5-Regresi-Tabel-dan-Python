{
  "nbformat": 4,
  "nbformat_minor": 0,
  "metadata": {
    "colab": {
      "provenance": [],
      "toc_visible": true,
      "authorship_tag": "ABX9TyN2QoR9UxCMX2N8BnEYnkEy",
      "include_colab_link": true
    },
    "kernelspec": {
      "name": "python3",
      "display_name": "Python 3"
    },
    "language_info": {
      "name": "python"
    }
  },
  "cells": [
    {
      "cell_type": "markdown",
      "metadata": {
        "id": "view-in-github",
        "colab_type": "text"
      },
      "source": [
        "<a href=\"https://colab.research.google.com/github/hutri17/Assignment-5-Regresi-Tabel-dan-Python/blob/main/Hutri_Ninda_Olivia_201012320007_Assignmend_5.ipynb\" target=\"_parent\"><img src=\"https://colab.research.google.com/assets/colab-badge.svg\" alt=\"Open In Colab\"/></a>"
      ]
    },
    {
      "cell_type": "markdown",
      "source": [
        "\n",
        "\n",
        ">Nama: Hutri Ninda Olivia\n",
        "Nim:201012320007\n",
        "Regresi Linear Sederhana\n",
        "\n"
      ],
      "metadata": {
        "id": "UgsvdIlc3s-x"
      }
    },
    {
      "cell_type": "code",
      "execution_count": 1,
      "metadata": {
        "id": "e3dL7GTG27dA"
      },
      "outputs": [],
      "source": [
        "import pandas as pd\n",
        "import numpy as np\n",
        "from sklearn.model_selection import train_test_split\n",
        "from sklearn.linear_model import LinearRegression\n",
        "from sklearn.metrics import mean_squared_error, mean_absolute_error, r2_score"
      ]
    },
    {
      "cell_type": "code",
      "source": [
        "# Membaca dataset\n",
        "data = pd.read_csv('insurance.csv')"
      ],
      "metadata": {
        "id": "fmvgjbR33HAZ"
      },
      "execution_count": 3,
      "outputs": []
    },
    {
      "cell_type": "code",
      "source": [
        "# Preprocessing data\n",
        "X_age = data[['age']]\n",
        "X_bmi = data[['bmi']]\n",
        "X_children = data[['children']]\n",
        "y = data['charges']"
      ],
      "metadata": {
        "id": "6ryvhUIj3P5m"
      },
      "execution_count": 4,
      "outputs": []
    },
    {
      "cell_type": "code",
      "source": [
        "# Membagi data menjadi data latih dan data uji\n",
        "X_age_train, X_age_test, y_train, y_test = train_test_split(X_age, y, test_size=0.2, random_state=42)\n",
        "X_bmi_train, X_bmi_test, _, _ = train_test_split(X_bmi, y, test_size=0.2, random_state=42)\n",
        "X_children_train, X_children_test, _, _ = train_test_split(X_children, y, test_size=0.2, random_state=42)"
      ],
      "metadata": {
        "id": "jsxZ4FGT3TlP"
      },
      "execution_count": 5,
      "outputs": []
    },
    {
      "cell_type": "code",
      "source": [
        "# Regresi linier sederhana untuk kolom age\n",
        "model_age = LinearRegression()\n",
        "model_age.fit(X_age_train, y_train)\n",
        "y_pred_age = model_age.predict(X_age_test)\n",
        "mse_age = mean_squared_error(y_test, y_pred_age)\n",
        "mae_age = mean_absolute_error(y_test, y_pred_age)\n",
        "r2_age = r2_score(y_test, y_pred_age)"
      ],
      "metadata": {
        "id": "94apipHu3ZK_"
      },
      "execution_count": 6,
      "outputs": []
    },
    {
      "cell_type": "code",
      "source": [
        "# Regresi linier sederhana untuk kolom bmi\n",
        "model_bmi = LinearRegression()\n",
        "model_bmi.fit(X_bmi_train, y_train)\n",
        "y_pred_bmi = model_bmi.predict(X_bmi_test)\n",
        "mse_bmi = mean_squared_error(y_test, y_pred_bmi)\n",
        "mae_bmi = mean_absolute_error(y_test, y_pred_bmi)\n",
        "r2_bmi = r2_score(y_test, y_pred_bmi)"
      ],
      "metadata": {
        "id": "rBPLuWRu3cJZ"
      },
      "execution_count": 7,
      "outputs": []
    },
    {
      "cell_type": "code",
      "source": [
        "# Regresi linier sederhana untuk kolom children\n",
        "model_children = LinearRegression()\n",
        "model_children.fit(X_children_train, y_train)\n",
        "y_pred_children = model_children.predict(X_children_test)\n",
        "mse_children = mean_squared_error(y_test, y_pred_children)\n",
        "mae_children = mean_absolute_error(y_test, y_pred_children)\n",
        "r2_children = r2_score(y_test, y_pred_children)"
      ],
      "metadata": {
        "id": "UgCiFVLR30XW"
      },
      "execution_count": 8,
      "outputs": []
    },
    {
      "cell_type": "code",
      "source": [
        "# Menampilkan hasil\n",
        "print(\"Hasil untuk fitur age:\")\n",
        "print(\"MSE:\", mse_age)\n",
        "print(\"MAE:\", mae_age)\n",
        "print(\"R2 Score:\", r2_age)"
      ],
      "metadata": {
        "colab": {
          "base_uri": "https://localhost:8080/"
        },
        "id": "xunJruni34bA",
        "outputId": "f4358606-19d8-497a-c9fa-a5bb56a4c476"
      },
      "execution_count": 9,
      "outputs": [
        {
          "output_type": "stream",
          "name": "stdout",
          "text": [
            "Hasil untuk fitur age:\n",
            "MSE: 135983957.4805469\n",
            "MAE: 9173.258196746589\n",
            "R2 Score: 0.12408973539501944\n"
          ]
        }
      ]
    },
    {
      "cell_type": "code",
      "source": [
        "print(\"\\nHasil untuk fitur bmi:\")\n",
        "print(\"MSE:\", mse_bmi)\n",
        "print(\"MAE:\", mae_bmi)\n",
        "print(\"R2 Score:\", r2_bmi)"
      ],
      "metadata": {
        "colab": {
          "base_uri": "https://localhost:8080/"
        },
        "id": "5aATKVQY4JMp",
        "outputId": "519c61f1-54e5-4e09-de07-af402ddf585d"
      },
      "execution_count": 10,
      "outputs": [
        {
          "output_type": "stream",
          "name": "stdout",
          "text": [
            "\n",
            "Hasil untuk fitur bmi:\n",
            "MSE: 149085057.03839505\n",
            "MAE: 9784.65259627133\n",
            "R2 Score: 0.03970193117941878\n"
          ]
        }
      ]
    },
    {
      "cell_type": "code",
      "source": [
        "print(\"\\nHasil untuk fitur children:\")\n",
        "print(\"MSE:\", mse_children)\n",
        "print(\"MAE:\", mae_children)\n",
        "print(\"R2 Score:\", r2_children)"
      ],
      "metadata": {
        "colab": {
          "base_uri": "https://localhost:8080/"
        },
        "id": "1V8BO12q4Ptg",
        "outputId": "da2dbf93-7e26-4a48-841d-980240f7de43"
      },
      "execution_count": 11,
      "outputs": [
        {
          "output_type": "stream",
          "name": "stdout",
          "text": [
            "\n",
            "Hasil untuk fitur children:\n",
            "MSE: 154985513.03144488\n",
            "MAE: 9570.371167068748\n",
            "R2 Score: 0.0016954628730256882\n"
          ]
        }
      ]
    },
    {
      "cell_type": "markdown",
      "source": [
        "Regresi Linear Variabel Jamak"
      ],
      "metadata": {
        "id": "pkd8Dqmc4b1b"
      }
    },
    {
      "cell_type": "code",
      "source": [
        "# Preprocessing data\n",
        "X = data[['age', 'bmi', 'children']]\n",
        "y = data['charges']"
      ],
      "metadata": {
        "id": "GaNzFPnm7Ovg"
      },
      "execution_count": 21,
      "outputs": []
    },
    {
      "cell_type": "code",
      "source": [
        "# Membagi data menjadi data latih dan data uji\n",
        "X_train, X_test, y_train, y_test = train_test_split(X, y, test_size=0.2, random_state=42)\n"
      ],
      "metadata": {
        "id": "IHv5lzSv7W-S"
      },
      "execution_count": 22,
      "outputs": []
    },
    {
      "cell_type": "code",
      "source": [
        "# Regresi linier variabel jamak\n",
        "model_multiple = LinearRegression()\n",
        "model_multiple.fit(X_train, y_train)\n",
        "y_pred_multiple = model_multiple.predict(X_test)"
      ],
      "metadata": {
        "id": "6vM8Gphw7alu"
      },
      "execution_count": 23,
      "outputs": []
    },
    {
      "cell_type": "code",
      "source": [
        "# Evaluasi model regresi linier variabel jamak\n",
        "mse_multiple = mean_squared_error(y_test, y_pred_multiple)\n",
        "mae_multiple = mean_absolute_error(y_test, y_pred_multiple)\n",
        "r2_multiple = r2_score(y_test, y_pred_multiple)"
      ],
      "metadata": {
        "id": "F6HMk03x7fWq"
      },
      "execution_count": 24,
      "outputs": []
    },
    {
      "cell_type": "code",
      "source": [
        "# Menampilkan hasil\n",
        "print(\"Hasil untuk regresi linier variabel jamak:\")\n",
        "print(\"MSE:\", mse_multiple)\n",
        "print(\"MAE:\", mae_multiple)\n",
        "print(\"R2 Score:\", r2_multiple)"
      ],
      "metadata": {
        "colab": {
          "base_uri": "https://localhost:8080/"
        },
        "id": "iv1Z5HqW7ya-",
        "outputId": "41641eef-8d9c-4e92-afbd-24017eef554e"
      },
      "execution_count": 25,
      "outputs": [
        {
          "output_type": "stream",
          "name": "stdout",
          "text": [
            "Hasil untuk regresi linier variabel jamak:\n",
            "MSE: 131201335.64669803\n",
            "MAE: 9181.311632897381\n",
            "R2 Score: 0.15489592484270776\n"
          ]
        }
      ]
    },
    {
      "cell_type": "code",
      "source": [
        "# Regresi linier sederhana untuk setiap fitur\n",
        "def linear_regression_simple(X_train, X_test, y_train, y_test):\n",
        "    model = LinearRegression()\n",
        "    model.fit(X_train, y_train)\n",
        "    y_pred = model.predict(X_test)\n",
        "    mse = mean_squared_error(y_test, y_pred)\n",
        "    mae = mean_absolute_error(y_test, y_pred)\n",
        "    r2 = r2_score(y_test, y_pred)\n",
        "    return mse, mae, r2"
      ],
      "metadata": {
        "id": "4VhEWvL873uS"
      },
      "execution_count": 27,
      "outputs": []
    },
    {
      "cell_type": "code",
      "source": [
        "# Evaluasi regresi linier sederhana untuk setiap fitur\n",
        "mse_age, mae_age, r2_age = linear_regression_simple(X_train[['age']], X_test[['age']], y_train, y_test)\n",
        "mse_bmi, mae_bmi, r2_bmi = linear_regression_simple(X_train[['bmi']], X_test[['bmi']], y_train, y_test)\n",
        "mse_children, mae_children, r2_children = linear_regression_simple(X_train[['children']], X_test[['children']], y_train, y_test)\n"
      ],
      "metadata": {
        "id": "SqdhyN5h78uX"
      },
      "execution_count": 28,
      "outputs": []
    },
    {
      "cell_type": "code",
      "source": [
        "# Menampilkan hasil regresi linier sederhana\n",
        "print(\"\\nHasil untuk regresi linier sederhana:\")\n",
        "print(\"MSE (Usia):\", mse_age)\n",
        "print(\"MAE (Usia):\", mae_age)\n",
        "print(\"R2 Score (Usia):\", r2_age)\n",
        "print(\"\\nMSE (BMI):\", mse_bmi)\n",
        "print(\"MAE (BMI):\", mae_bmi)\n",
        "print(\"R2 Score (BMI):\", r2_bmi)\n",
        "print(\"\\nMSE (Jumlah Anak):\", mse_children)\n",
        "print(\"MAE (Jumlah Anak):\", mae_children)\n",
        "print(\"R2 Score (Jumlah Anak):\", r2_children)"
      ],
      "metadata": {
        "colab": {
          "base_uri": "https://localhost:8080/"
        },
        "id": "Cg5qor6W8CBX",
        "outputId": "c1831fcc-c72c-43b6-bfad-b79618bc28c4"
      },
      "execution_count": 29,
      "outputs": [
        {
          "output_type": "stream",
          "name": "stdout",
          "text": [
            "\n",
            "Hasil untuk regresi linier sederhana:\n",
            "MSE (Usia): 135983957.4805469\n",
            "MAE (Usia): 9173.258196746589\n",
            "R2 Score (Usia): 0.12408973539501944\n",
            "\n",
            "MSE (BMI): 149085057.03839505\n",
            "MAE (BMI): 9784.65259627133\n",
            "R2 Score (BMI): 0.03970193117941878\n",
            "\n",
            "MSE (Jumlah Anak): 154985513.03144488\n",
            "MAE (Jumlah Anak): 9570.371167068748\n",
            "R2 Score (Jumlah Anak): 0.0016954628730256882\n"
          ]
        }
      ]
    }
  ]
}